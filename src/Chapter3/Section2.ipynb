{
 "cells": [
  {
   "cell_type": "code",
   "execution_count": 3,
   "metadata": {},
   "outputs": [
    {
     "name": "stdout",
     "output_type": "stream",
     "text": [
      "<StateSpace>: sys[0]\n",
      "Inputs (1): ['u[0]']\n",
      "Outputs (1): ['y[0]']\n",
      "States (2): ['x[0]', 'x[1]']\n",
      "\n",
      "A = [[ 0.  1.]\n",
      "     [-1. -1.]]\n",
      "\n",
      "B = [[0.]\n",
      "     [1.]]\n",
      "\n",
      "C = [[1. 0.]]\n",
      "\n",
      "D = [[0.]]\n",
      "\n"
     ]
    }
   ],
   "source": [
    "from control.matlab import ss, ssdata\n",
    "\n",
    "# ss に array like data を渡す例\n",
    "\n",
    "# 状態方程式の係数行列\n",
    "A = [[0, 1], [-1, -1]]\n",
    "B = [[0], [1]]\n",
    "C = [1, 0]\n",
    "D = [ 0 ]\n",
    "\n",
    "P = ss(A, B, C, D)\n",
    "print(P)"
   ]
  },
  {
   "cell_type": "code",
   "execution_count": null,
   "metadata": {},
   "outputs": [],
   "source": [
    "# string を ss に渡す例\n",
    "# 注意：このコード例は私の環境では動かない\n",
    "A = \"0 1; -1 -1\"\n",
    "B = \"0; 1\"\n",
    "C = '1 0'\n",
    "D = '0'"
   ]
  },
  {
   "cell_type": "code",
   "execution_count": 14,
   "metadata": {},
   "outputs": [
    {
     "name": "stdout",
     "output_type": "stream",
     "text": [
      "<StateSpace>: sys[1]\n",
      "Inputs (1): ['u[0]']\n",
      "Outputs (1): ['y[0]']\n",
      "States (3): ['x[0]', 'x[1]', 'x[2]']\n",
      "\n",
      "A = [[1. 1. 2.]\n",
      "     [2. 1. 1.]\n",
      "     [3. 4. 5.]]\n",
      "\n",
      "B = [[2.]\n",
      "     [0.]\n",
      "     [1.]]\n",
      "\n",
      "C = [[1. 1. 0.]]\n",
      "\n",
      "D = [[0.]]\n",
      "\n"
     ]
    }
   ],
   "source": [
    "# 練習問題\n",
    "\n",
    "A = [[1, 1, 2], [2, 1, 1], [3, 4, 5]]\n",
    "B = [[2], [0], [1]]\n",
    "C = [1, 1, 0]\n",
    "D = [0]\n",
    "\n",
    "P = ss(A, B, C, D)\n",
    "print(P)"
   ]
  },
  {
   "cell_type": "code",
   "execution_count": 15,
   "metadata": {},
   "outputs": [
    {
     "name": "stdout",
     "output_type": "stream",
     "text": [
      "A= [[1. 1. 2.]\n",
      " [2. 1. 1.]\n",
      " [3. 4. 5.]]\n"
     ]
    }
   ],
   "source": [
    "# StateSpace オブジェクトから行列の情報を取り出す\n",
    "print('A=', P.A)"
   ]
  },
  {
   "cell_type": "code",
   "execution_count": 17,
   "metadata": {},
   "outputs": [
    {
     "name": "stdout",
     "output_type": "stream",
     "text": [
      "[[0.]]\n"
     ]
    }
   ],
   "source": [
    "# StateSpace オブジェクトから行列の情報を取り出すもう一つの方法\n",
    "sysA, sysB, sysC, sysD = ssdata(P)\n",
    "print(sysD)"
   ]
  }
 ],
 "metadata": {
  "kernelspec": {
   "display_name": ".venv",
   "language": "python",
   "name": "python3"
  },
  "language_info": {
   "codemirror_mode": {
    "name": "ipython",
    "version": 3
   },
   "file_extension": ".py",
   "mimetype": "text/x-python",
   "name": "python",
   "nbconvert_exporter": "python",
   "pygments_lexer": "ipython3",
   "version": "3.12.8"
  }
 },
 "nbformat": 4,
 "nbformat_minor": 2
}
