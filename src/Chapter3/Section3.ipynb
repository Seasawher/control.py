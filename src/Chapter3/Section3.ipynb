{
 "cells": [
  {
   "cell_type": "code",
   "execution_count": 6,
   "metadata": {},
   "outputs": [
    {
     "name": "stdout",
     "output_type": "stream",
     "text": [
      "<TransferFunction>: sys[4]\n",
      "Inputs (1): ['u[0]']\n",
      "Outputs (1): ['y[0]']\n",
      "\n",
      "\n",
      "      1\n",
      "-------------\n",
      "s^2 + 2 s + 3\n",
      "\n"
     ]
    }
   ],
   "source": [
    "from control.matlab import tf, tfdata\n",
    "\n",
    "Np = [0, 1]\n",
    "Dp = [1, 2, 3]\n",
    "\n",
    "# 伝達関数の作成\n",
    "P = tf(Np, Dp)\n",
    "print(P)"
   ]
  },
  {
   "cell_type": "code",
   "execution_count": 9,
   "metadata": {},
   "outputs": [
    {
     "name": "stdout",
     "output_type": "stream",
     "text": [
      "<TransferFunction>: sys[34]\n",
      "Inputs (1): ['u[0]']\n",
      "Outputs (1): ['y[0]']\n",
      "\n",
      "\n",
      "      3\n",
      "-------------\n",
      "s^2 + 2 s + 3\n",
      "\n"
     ]
    }
   ],
   "source": [
    "s = tf('s')\n",
    "P = 3/(s**2 + 2*s + 3)\n",
    "print(P)"
   ]
  },
  {
   "cell_type": "code",
   "execution_count": 10,
   "metadata": {},
   "outputs": [
    {
     "name": "stdout",
     "output_type": "stream",
     "text": [
      "<TransferFunction>: sys[52]\n",
      "Inputs (1): ['u[0]']\n",
      "Outputs (1): ['y[0]']\n",
      "\n",
      "\n",
      "        s + 2\n",
      "---------------------\n",
      "s^3 + 5 s^2 + 3 s + 4\n",
      "\n"
     ]
    }
   ],
   "source": [
    "s = tf('s')\n",
    "P = (s+2)/(s**3 + 5*s**2 + 3*s + 4)\n",
    "print(P)"
   ]
  },
  {
   "cell_type": "code",
   "execution_count": 12,
   "metadata": {},
   "outputs": [
    {
     "name": "stdout",
     "output_type": "stream",
     "text": [
      "<TransferFunction>: sys[74]\n",
      "Inputs (1): ['u[0]']\n",
      "Outputs (1): ['y[0]']\n",
      "\n",
      "\n",
      "        s + 3\n",
      "---------------------\n",
      "s^3 + 5 s^2 + 8 s + 4\n",
      "\n"
     ]
    }
   ],
   "source": [
    "s = tf('s')\n",
    "P = (s+3)/((s+1)*(s+2)**2)\n",
    "print(P)"
   ]
  },
  {
   "cell_type": "code",
   "execution_count": 14,
   "metadata": {},
   "outputs": [
    {
     "name": "stdout",
     "output_type": "stream",
     "text": [
      "[1 3]\n",
      "[1 5 8 4]\n"
     ]
    }
   ],
   "source": [
    "P.num\n",
    "\n",
    "[[numP]], [[denP]] = tfdata(P)\n",
    "print(numP)\n",
    "print(denP)"
   ]
  },
  {
   "cell_type": "code",
   "execution_count": 18,
   "metadata": {},
   "outputs": [
    {
     "name": "stdout",
     "output_type": "stream",
     "text": [
      "<StateSpace>: sys[81]\n",
      "Inputs (1): ['u[0]']\n",
      "Outputs (1): ['y[0]']\n",
      "States (2): ['x[0]', 'x[1]']\n",
      "\n",
      "A = [[-3. -4.]\n",
      "     [ 1.  0.]]\n",
      "\n",
      "B = [[1.]\n",
      "     [0.]]\n",
      "\n",
      "C = [[1. 2.]]\n",
      "\n",
      "D = [[0.]]\n",
      "\n",
      "<TransferFunction>: sys[83]\n",
      "Inputs (1): ['u[0]']\n",
      "Outputs (1): ['y[0]']\n",
      "\n",
      "\n",
      "    s + 2\n",
      "-------------\n",
      "s^2 + 3 s + 4\n",
      "\n"
     ]
    }
   ],
   "source": [
    "from control.matlab import tf, tf2ss, ss2tf\n",
    "from control import ss, canonical_form\n",
    "\n",
    "P = tf([1, 2], [1, 3, 4])\n",
    "\n",
    "# 伝達関数から状態空間モデルへの変換（一意ではない）\n",
    "Pss = tf2ss(P)\n",
    "print(Pss)\n",
    "\n",
    "# 状態空間モデルから伝達関数への変換\n",
    "# 一周してもとに戻る！\n",
    "Ptf = ss2tf(Pss)\n",
    "print(Ptf)"
   ]
  },
  {
   "cell_type": "code",
   "execution_count": 19,
   "metadata": {},
   "outputs": [
    {
     "name": "stdout",
     "output_type": "stream",
     "text": [
      "<StateSpace>: sys[84]\n",
      "Inputs (1): ['u[0]']\n",
      "Outputs (1): ['y[0]']\n",
      "States (3): ['x[0]', 'x[1]', 'x[2]']\n",
      "\n",
      "A = [[ 3. 21. 24.]\n",
      "     [ 1.  0.  0.]\n",
      "     [ 0.  1.  0.]]\n",
      "\n",
      "B = [[1.]\n",
      "     [0.]\n",
      "     [0.]]\n",
      "\n",
      "C = [[ 1.  9. 27.]]\n",
      "\n",
      "D = [[0.]]\n",
      "\n"
     ]
    }
   ],
   "source": [
    "A = [[1, 2, 3], [3, 2, 1], [4, 5, 0]]\n",
    "B = [[1], [0], [1]]\n",
    "C = [0, 2, 1]\n",
    "D = [0]\n",
    "Pss = ss(A, B, C, D)\n",
    "\n",
    "Pr, T = canonical_form(Pss, form='reachable')\n",
    "print(Pr)"
   ]
  },
  {
   "cell_type": "code",
   "execution_count": 20,
   "metadata": {},
   "outputs": [
    {
     "name": "stdout",
     "output_type": "stream",
     "text": [
      "<StateSpace>: sys[84]\n",
      "Inputs (1): ['u[0]']\n",
      "Outputs (1): ['y[0]']\n",
      "States (3): ['x[0]', 'x[1]', 'x[2]']\n",
      "\n",
      "A = [[ 3.  1.  0.]\n",
      "     [21.  0.  1.]\n",
      "     [24.  0.  0.]]\n",
      "\n",
      "B = [[ 1.]\n",
      "     [ 9.]\n",
      "     [27.]]\n",
      "\n",
      "C = [[1. 0. 0.]]\n",
      "\n",
      "D = [[0.]]\n",
      "\n"
     ]
    }
   ],
   "source": [
    "Po, T = canonical_form(Pss, form='observable')\n",
    "print(Po)"
   ]
  }
 ],
 "metadata": {
  "kernelspec": {
   "display_name": ".venv",
   "language": "python",
   "name": "python3"
  },
  "language_info": {
   "codemirror_mode": {
    "name": "ipython",
    "version": 3
   },
   "file_extension": ".py",
   "mimetype": "text/x-python",
   "name": "python",
   "nbconvert_exporter": "python",
   "pygments_lexer": "ipython3",
   "version": "3.12.8"
  }
 },
 "nbformat": 4,
 "nbformat_minor": 2
}
