{
 "cells": [
  {
   "cell_type": "code",
   "execution_count": 8,
   "metadata": {},
   "outputs": [
    {
     "name": "stdout",
     "output_type": "stream",
     "text": [
      "ピークゲイン: -0.0004342727686273253 [dB]\n",
      "バンド幅: 0.9976283451102316 [rad/s]\n"
     ]
    },
    {
     "name": "stderr",
     "output_type": "stream",
     "text": [
      "c:\\Users\\asei\\control.py\\.venv\\Lib\\site-packages\\control\\freqplot.py:435: FutureWarning: bode_plot() return value of mag, phase, omega is deprecated; use frequency_response()\n",
      "  warnings.warn(\n"
     ]
    }
   ],
   "source": [
    "from control.matlab import bode, logspace, mag2db, tf\n",
    "\n",
    "P = tf([1], [1, 1])\n",
    "mag, _, w = bode(P, logspace(-2, 2), plot=False)\n",
    "print(f\"ピークゲイン: {mag2db(mag.max())} [dB]\")\n",
    "\n",
    "# バンド幅\n",
    "print(f\"バンド幅: {P.bandwidth()} [rad/s]\")"
   ]
  }
 ],
 "metadata": {
  "kernelspec": {
   "display_name": ".venv",
   "language": "python",
   "name": "python3"
  },
  "language_info": {
   "codemirror_mode": {
    "name": "ipython",
    "version": 3
   },
   "file_extension": ".py",
   "mimetype": "text/x-python",
   "name": "python",
   "nbconvert_exporter": "python",
   "pygments_lexer": "ipython3",
   "version": "3.12.8"
  }
 },
 "nbformat": 4,
 "nbformat_minor": 2
}
